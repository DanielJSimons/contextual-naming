{
 "cells": [
  {
   "cell_type": "code",
   "execution_count": 17,
   "metadata": {},
   "outputs": [
    {
     "name": "stdout",
     "output_type": "stream",
     "text": [
      "id | original_filename | new_filename | original_path | new_path | timestamp | status | user\n",
      "--------------------------------------------------\n",
      "66ef40b4-9130-4675-bef2-e10e3bea7416 | Apple_Inc._2023_Form_10-K.pdf | Apple_Inc._2023_Form_10-K.pdf | Test_Documents\\Apple_Inc._2023_Form_10-K.pdf | Test_Documents\\Apple_Inc._2023_Form_10-K.pdf | 2024-07-08T18:05:33.029379 | Skipped | user\n",
      "696c1846-8b85-44a7-b51b-4bf79626bdf1 | BARCLAYS_BANK_PLC_2023_Pricing_Supplement.pdf | BARCLAYS_BANK_PLC_2023_Pricing_Supplement.pdf | Test_Documents\\BARCLAYS_BANK_PLC_2023_Pricing_Supplement.pdf | Test_Documents\\BARCLAYS_BANK_PLC_2023_Pricing_Supplement.pdf | 2024-07-08T18:05:34.925090 | Skipped | user\n",
      "f80c9a96-5b30-45aa-b367-cef499971c6c | Meta_Platforms,_Inc._2023_Form_10-K.pdf | Meta_Platforms,_Inc._2023_Form_10-K.pdf | Test_Documents\\Meta_Platforms,_Inc._2023_Form_10-K.pdf | Test_Documents\\Meta_Platforms,_Inc._2023_Form_10-K.pdf | 2024-07-08T18:05:37.254595 | Skipped | user\n",
      "2bab2499-69e8-45b2-aa8f-11eeeaa40fb4 | One_Heritage_Group_plc_2022_Prospectus.pdf | One_Heritage_Group_plc_2022_Prospectus.pdf | Test_Documents\\One_Heritage_Group_plc_2022_Prospectus.pdf | Test_Documents\\One_Heritage_Group_plc_2022_Prospectus.pdf | 2024-07-08T18:05:39.266794 | Skipped | user\n",
      "2d83450b-15c7-4f41-8a95-8a55b12a5d69 | Meta_Platforms,_Inc._2023_Form_10-K.pdf | Meta_Platforms,_Inc._2023_Form_10-K.pdf | Test_Documents\\SubFolder1\\Meta_Platforms,_Inc._2023_Form_10-K.pdf | Test_Documents\\SubFolder1\\Meta_Platforms,_Inc._2023_Form_10-K.pdf | 2024-07-08T18:15:26.779406 | Skipped | user\n",
      "dbf70ba0-125d-4751-ab96-f9a92e26e560 | Apple_Inc._2023_Form_10-K.pdf | Apple_Inc._2023_Form_10-K.pdf | Test_Documents\\SubFolder1\\SubSubFolder1\\Apple_Inc._2023_Form_10-K.pdf | Test_Documents\\SubFolder1\\SubSubFolder1\\Apple_Inc._2023_Form_10-K.pdf | 2024-07-08T18:15:29.161482 | Skipped | user\n",
      "15674dee-fbdd-4c9a-8bf4-e06422e640be | Apple_Inc._2023_Form_10-K.pdf | Apple_Inc._2023_Form_10-K.pdf | Test_Documents\\SubFolder2\\Apple_Inc._2023_Form_10-K.pdf | Test_Documents\\SubFolder2\\Apple_Inc._2023_Form_10-K.pdf | 2024-07-08T18:15:30.740070 | Skipped | user\n",
      "e8947cd7-6e13-4c5b-8d70-786c2cef3445 | Meta_Platforms,_Inc._2023_Form_10-K.pdf | Meta_Platforms,_Inc._2023_Form_10-K.pdf | Test_Documents\\SubFolder2\\Meta_Platforms,_Inc._2023_Form_10-K.pdf | Test_Documents\\SubFolder2\\Meta_Platforms,_Inc._2023_Form_10-K.pdf | 2024-07-08T18:15:33.281408 | Skipped | user\n",
      "0054c7b1-a9c3-4863-b069-4309490e0819 | testdoc1.pdf | Apple_Inc._2023_Form_10-K.pdf | Test_Documents\\SubFolder1\\SubSubFolder1\\testdoc1.pdf | C:\\Users\\dansi\\Desktop\\contextual_naming\\Test_Documents\\SubFolder1\\SubSubFolder1\\Apple_Inc._2023_Form_10-K.pdf | 2024-07-08T18:16:30.978952 | Success | user\n"
     ]
    }
   ],
   "source": [
    "import sqlite3\n",
    "from settings import ConfigContract, get_config\n",
    "\n",
    "config = get_config()\n",
    "DATABASE_FILE = config[ConfigContract.DATABASE_FILE]\n",
    "\n",
    "def view_database(database_file):\n",
    "    conn = sqlite3.connect(database_file)\n",
    "    cursor = conn.cursor()\n",
    "    \n",
    "    # Query to retrieve all data from the renamed_files table\n",
    "    cursor.execute(\"SELECT * FROM renamed_files\")\n",
    "    rows = cursor.fetchall()\n",
    "    \n",
    "    # Fetch column names\n",
    "    cursor.execute(\"PRAGMA table_info(renamed_files)\")\n",
    "    column_info = cursor.fetchall()\n",
    "    column_names = [column[1] for column in column_info]\n",
    "    \n",
    "    # Print the column names\n",
    "    print(\" | \".join(column_names))\n",
    "    print(\"-\" * 50)\n",
    "    \n",
    "    # Print the rows\n",
    "    for row in rows:\n",
    "        print(\" | \".join(map(str, row)))\n",
    "    \n",
    "    conn.close()\n",
    "\n",
    "if __name__ == \"__main__\":\n",
    "    view_database(DATABASE_FILE)\n"
   ]
  }
 ],
 "metadata": {
  "kernelspec": {
   "display_name": "Python 3.10 (tensorflow",
   "language": "python",
   "name": "tensorflow"
  },
  "language_info": {
   "codemirror_mode": {
    "name": "ipython",
    "version": 3
   },
   "file_extension": ".py",
   "mimetype": "text/x-python",
   "name": "python",
   "nbconvert_exporter": "python",
   "pygments_lexer": "ipython3",
   "version": "3.10.14"
  }
 },
 "nbformat": 4,
 "nbformat_minor": 2
}
